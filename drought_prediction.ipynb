{
  "nbformat": 4,
  "nbformat_minor": 0,
  "metadata": {
    "colab": {
      "provenance": []
    },
    "kernelspec": {
      "name": "python3",
      "display_name": "Python 3"
    },
    "language_info": {
      "name": "python"
    },
    "widgets": {
      "application/vnd.jupyter.widget-state+json": {
        "61eee46ee15a4e4196990ac0ea76460f": {
          "model_module": "@jupyter-widgets/controls",
          "model_name": "VBoxModel",
          "model_module_version": "1.5.0",
          "state": {
            "_dom_classes": [],
            "_model_module": "@jupyter-widgets/controls",
            "_model_module_version": "1.5.0",
            "_model_name": "VBoxModel",
            "_view_count": null,
            "_view_module": "@jupyter-widgets/controls",
            "_view_module_version": "1.5.0",
            "_view_name": "VBoxView",
            "box_style": "",
            "children": [
              "IPY_MODEL_eb9a0b269b704d1380b9d26efc596285",
              "IPY_MODEL_5beebf9849cb4da5895500af5f44313e"
            ],
            "layout": "IPY_MODEL_fca28a43ab3e490d8af712432565b61f"
          }
        },
        "eb9a0b269b704d1380b9d26efc596285": {
          "model_module": "@jupyter-widgets/controls",
          "model_name": "LabelModel",
          "model_module_version": "1.5.0",
          "state": {
            "_dom_classes": [],
            "_model_module": "@jupyter-widgets/controls",
            "_model_module_version": "1.5.0",
            "_model_name": "LabelModel",
            "_view_count": null,
            "_view_module": "@jupyter-widgets/controls",
            "_view_module_version": "1.5.0",
            "_view_name": "LabelView",
            "description": "",
            "description_tooltip": null,
            "layout": "IPY_MODEL_a53af186aaad489ca9073aa0e35c3308",
            "placeholder": "​",
            "style": "IPY_MODEL_1e9566ada01943a1a30a48f922ca8e99",
            "value": "0.013 MB of 0.013 MB uploaded\r"
          }
        },
        "5beebf9849cb4da5895500af5f44313e": {
          "model_module": "@jupyter-widgets/controls",
          "model_name": "FloatProgressModel",
          "model_module_version": "1.5.0",
          "state": {
            "_dom_classes": [],
            "_model_module": "@jupyter-widgets/controls",
            "_model_module_version": "1.5.0",
            "_model_name": "FloatProgressModel",
            "_view_count": null,
            "_view_module": "@jupyter-widgets/controls",
            "_view_module_version": "1.5.0",
            "_view_name": "ProgressView",
            "bar_style": "",
            "description": "",
            "description_tooltip": null,
            "layout": "IPY_MODEL_e21b8552a6494aad9d79c43bc1641afc",
            "max": 1,
            "min": 0,
            "orientation": "horizontal",
            "style": "IPY_MODEL_2cbb94afcde64205b4b42741c32bdaca",
            "value": 1
          }
        },
        "fca28a43ab3e490d8af712432565b61f": {
          "model_module": "@jupyter-widgets/base",
          "model_name": "LayoutModel",
          "model_module_version": "1.2.0",
          "state": {
            "_model_module": "@jupyter-widgets/base",
            "_model_module_version": "1.2.0",
            "_model_name": "LayoutModel",
            "_view_count": null,
            "_view_module": "@jupyter-widgets/base",
            "_view_module_version": "1.2.0",
            "_view_name": "LayoutView",
            "align_content": null,
            "align_items": null,
            "align_self": null,
            "border": null,
            "bottom": null,
            "display": null,
            "flex": null,
            "flex_flow": null,
            "grid_area": null,
            "grid_auto_columns": null,
            "grid_auto_flow": null,
            "grid_auto_rows": null,
            "grid_column": null,
            "grid_gap": null,
            "grid_row": null,
            "grid_template_areas": null,
            "grid_template_columns": null,
            "grid_template_rows": null,
            "height": null,
            "justify_content": null,
            "justify_items": null,
            "left": null,
            "margin": null,
            "max_height": null,
            "max_width": null,
            "min_height": null,
            "min_width": null,
            "object_fit": null,
            "object_position": null,
            "order": null,
            "overflow": null,
            "overflow_x": null,
            "overflow_y": null,
            "padding": null,
            "right": null,
            "top": null,
            "visibility": null,
            "width": null
          }
        },
        "a53af186aaad489ca9073aa0e35c3308": {
          "model_module": "@jupyter-widgets/base",
          "model_name": "LayoutModel",
          "model_module_version": "1.2.0",
          "state": {
            "_model_module": "@jupyter-widgets/base",
            "_model_module_version": "1.2.0",
            "_model_name": "LayoutModel",
            "_view_count": null,
            "_view_module": "@jupyter-widgets/base",
            "_view_module_version": "1.2.0",
            "_view_name": "LayoutView",
            "align_content": null,
            "align_items": null,
            "align_self": null,
            "border": null,
            "bottom": null,
            "display": null,
            "flex": null,
            "flex_flow": null,
            "grid_area": null,
            "grid_auto_columns": null,
            "grid_auto_flow": null,
            "grid_auto_rows": null,
            "grid_column": null,
            "grid_gap": null,
            "grid_row": null,
            "grid_template_areas": null,
            "grid_template_columns": null,
            "grid_template_rows": null,
            "height": null,
            "justify_content": null,
            "justify_items": null,
            "left": null,
            "margin": null,
            "max_height": null,
            "max_width": null,
            "min_height": null,
            "min_width": null,
            "object_fit": null,
            "object_position": null,
            "order": null,
            "overflow": null,
            "overflow_x": null,
            "overflow_y": null,
            "padding": null,
            "right": null,
            "top": null,
            "visibility": null,
            "width": null
          }
        },
        "1e9566ada01943a1a30a48f922ca8e99": {
          "model_module": "@jupyter-widgets/controls",
          "model_name": "DescriptionStyleModel",
          "model_module_version": "1.5.0",
          "state": {
            "_model_module": "@jupyter-widgets/controls",
            "_model_module_version": "1.5.0",
            "_model_name": "DescriptionStyleModel",
            "_view_count": null,
            "_view_module": "@jupyter-widgets/base",
            "_view_module_version": "1.2.0",
            "_view_name": "StyleView",
            "description_width": ""
          }
        },
        "e21b8552a6494aad9d79c43bc1641afc": {
          "model_module": "@jupyter-widgets/base",
          "model_name": "LayoutModel",
          "model_module_version": "1.2.0",
          "state": {
            "_model_module": "@jupyter-widgets/base",
            "_model_module_version": "1.2.0",
            "_model_name": "LayoutModel",
            "_view_count": null,
            "_view_module": "@jupyter-widgets/base",
            "_view_module_version": "1.2.0",
            "_view_name": "LayoutView",
            "align_content": null,
            "align_items": null,
            "align_self": null,
            "border": null,
            "bottom": null,
            "display": null,
            "flex": null,
            "flex_flow": null,
            "grid_area": null,
            "grid_auto_columns": null,
            "grid_auto_flow": null,
            "grid_auto_rows": null,
            "grid_column": null,
            "grid_gap": null,
            "grid_row": null,
            "grid_template_areas": null,
            "grid_template_columns": null,
            "grid_template_rows": null,
            "height": null,
            "justify_content": null,
            "justify_items": null,
            "left": null,
            "margin": null,
            "max_height": null,
            "max_width": null,
            "min_height": null,
            "min_width": null,
            "object_fit": null,
            "object_position": null,
            "order": null,
            "overflow": null,
            "overflow_x": null,
            "overflow_y": null,
            "padding": null,
            "right": null,
            "top": null,
            "visibility": null,
            "width": null
          }
        },
        "2cbb94afcde64205b4b42741c32bdaca": {
          "model_module": "@jupyter-widgets/controls",
          "model_name": "ProgressStyleModel",
          "model_module_version": "1.5.0",
          "state": {
            "_model_module": "@jupyter-widgets/controls",
            "_model_module_version": "1.5.0",
            "_model_name": "ProgressStyleModel",
            "_view_count": null,
            "_view_module": "@jupyter-widgets/base",
            "_view_module_version": "1.2.0",
            "_view_name": "StyleView",
            "bar_color": null,
            "description_width": ""
          }
        }
      }
    }
  },
  "cells": [
    {
      "cell_type": "markdown",
      "source": [
        "### installs"
      ],
      "metadata": {
        "id": "cwx-JXsaq1Qq"
      }
    },
    {
      "cell_type": "code",
      "source": [
        "!pip install wandb"
      ],
      "metadata": {
        "colab": {
          "base_uri": "https://localhost:8080/"
        },
        "id": "BPHgyefpyfTR",
        "outputId": "495d01f2-e0c1-46bc-d5a3-5f0b1a7b1678"
      },
      "execution_count": null,
      "outputs": [
        {
          "output_type": "stream",
          "name": "stdout",
          "text": [
            "Collecting wandb\n",
            "  Downloading wandb-0.16.6-py3-none-any.whl (2.2 MB)\n",
            "\u001b[2K     \u001b[90m━━━━━━━━━━━━━━━━━━━━━━━━━━━━━━━━━━━━━━━━\u001b[0m \u001b[32m2.2/2.2 MB\u001b[0m \u001b[31m21.2 MB/s\u001b[0m eta \u001b[36m0:00:00\u001b[0m\n",
            "\u001b[?25hRequirement already satisfied: Click!=8.0.0,>=7.1 in /usr/local/lib/python3.10/dist-packages (from wandb) (8.1.7)\n",
            "Collecting GitPython!=3.1.29,>=1.0.0 (from wandb)\n",
            "  Downloading GitPython-3.1.43-py3-none-any.whl (207 kB)\n",
            "\u001b[2K     \u001b[90m━━━━━━━━━━━━━━━━━━━━━━━━━━━━━━━━━━━━━━━━\u001b[0m \u001b[32m207.3/207.3 kB\u001b[0m \u001b[31m20.3 MB/s\u001b[0m eta \u001b[36m0:00:00\u001b[0m\n",
            "\u001b[?25hRequirement already satisfied: requests<3,>=2.0.0 in /usr/local/lib/python3.10/dist-packages (from wandb) (2.31.0)\n",
            "Requirement already satisfied: psutil>=5.0.0 in /usr/local/lib/python3.10/dist-packages (from wandb) (5.9.5)\n",
            "Collecting sentry-sdk>=1.0.0 (from wandb)\n",
            "  Downloading sentry_sdk-1.45.0-py2.py3-none-any.whl (267 kB)\n",
            "\u001b[2K     \u001b[90m━━━━━━━━━━━━━━━━━━━━━━━━━━━━━━━━━━━━━━━━\u001b[0m \u001b[32m267.1/267.1 kB\u001b[0m \u001b[31m24.1 MB/s\u001b[0m eta \u001b[36m0:00:00\u001b[0m\n",
            "\u001b[?25hCollecting docker-pycreds>=0.4.0 (from wandb)\n",
            "  Downloading docker_pycreds-0.4.0-py2.py3-none-any.whl (9.0 kB)\n",
            "Requirement already satisfied: PyYAML in /usr/local/lib/python3.10/dist-packages (from wandb) (6.0.1)\n",
            "Collecting setproctitle (from wandb)\n",
            "  Downloading setproctitle-1.3.3-cp310-cp310-manylinux_2_5_x86_64.manylinux1_x86_64.manylinux_2_17_x86_64.manylinux2014_x86_64.whl (30 kB)\n",
            "Requirement already satisfied: setuptools in /usr/local/lib/python3.10/dist-packages (from wandb) (67.7.2)\n",
            "Requirement already satisfied: appdirs>=1.4.3 in /usr/local/lib/python3.10/dist-packages (from wandb) (1.4.4)\n",
            "Requirement already satisfied: protobuf!=4.21.0,<5,>=3.19.0 in /usr/local/lib/python3.10/dist-packages (from wandb) (3.20.3)\n",
            "Requirement already satisfied: six>=1.4.0 in /usr/local/lib/python3.10/dist-packages (from docker-pycreds>=0.4.0->wandb) (1.16.0)\n",
            "Collecting gitdb<5,>=4.0.1 (from GitPython!=3.1.29,>=1.0.0->wandb)\n",
            "  Downloading gitdb-4.0.11-py3-none-any.whl (62 kB)\n",
            "\u001b[2K     \u001b[90m━━━━━━━━━━━━━━━━━━━━━━━━━━━━━━━━━━━━━━━━\u001b[0m \u001b[32m62.7/62.7 kB\u001b[0m \u001b[31m7.5 MB/s\u001b[0m eta \u001b[36m0:00:00\u001b[0m\n",
            "\u001b[?25hRequirement already satisfied: charset-normalizer<4,>=2 in /usr/local/lib/python3.10/dist-packages (from requests<3,>=2.0.0->wandb) (3.3.2)\n",
            "Requirement already satisfied: idna<4,>=2.5 in /usr/local/lib/python3.10/dist-packages (from requests<3,>=2.0.0->wandb) (3.6)\n",
            "Requirement already satisfied: urllib3<3,>=1.21.1 in /usr/local/lib/python3.10/dist-packages (from requests<3,>=2.0.0->wandb) (2.0.7)\n",
            "Requirement already satisfied: certifi>=2017.4.17 in /usr/local/lib/python3.10/dist-packages (from requests<3,>=2.0.0->wandb) (2024.2.2)\n",
            "Collecting smmap<6,>=3.0.1 (from gitdb<5,>=4.0.1->GitPython!=3.1.29,>=1.0.0->wandb)\n",
            "  Downloading smmap-5.0.1-py3-none-any.whl (24 kB)\n",
            "Installing collected packages: smmap, setproctitle, sentry-sdk, docker-pycreds, gitdb, GitPython, wandb\n",
            "Successfully installed GitPython-3.1.43 docker-pycreds-0.4.0 gitdb-4.0.11 sentry-sdk-1.45.0 setproctitle-1.3.3 smmap-5.0.1 wandb-0.16.6\n"
          ]
        }
      ]
    },
    {
      "cell_type": "markdown",
      "source": [
        "### Imports"
      ],
      "metadata": {
        "id": "GDQR246cMJos"
      }
    },
    {
      "cell_type": "code",
      "source": [
        "import numpy as np\n",
        "import pandas as pd\n",
        "import matplotlib.pyplot as plt\n",
        "from sklearn.preprocessing import MinMaxScaler\n",
        "import torch\n",
        "import torch.nn as nn\n",
        "import torch.optim as optim\n",
        "from torch.utils.data import Dataset, DataLoader\n",
        "from tqdm import tqdm\n",
        "import wandb"
      ],
      "metadata": {
        "id": "Hnvw_ixSMLsd"
      },
      "execution_count": null,
      "outputs": []
    },
    {
      "cell_type": "markdown",
      "source": [
        "### wandb setup"
      ],
      "metadata": {
        "id": "SUS-fCo-yYus"
      }
    },
    {
      "cell_type": "code",
      "source": [
        "use_wandb = False #set to true and add your key for model versioning in wandb\n",
        "if use_wandb:\n",
        "  wandb.login(key=\"YOUR WANDB KEY HERE\")"
      ],
      "metadata": {
        "colab": {
          "base_uri": "https://localhost:8080/"
        },
        "id": "OdD7Egs4yYa8",
        "outputId": "72dca166-2b22-478e-b81b-4377de801d8a"
      },
      "execution_count": null,
      "outputs": [
        {
          "output_type": "stream",
          "name": "stderr",
          "text": [
            "\u001b[34m\u001b[1mwandb\u001b[0m: W&B API key is configured. Use \u001b[1m`wandb login --relogin`\u001b[0m to force relogin\n",
            "\u001b[34m\u001b[1mwandb\u001b[0m: \u001b[33mWARNING\u001b[0m If you're specifying your api key in code, ensure this code is not shared publicly.\n",
            "\u001b[34m\u001b[1mwandb\u001b[0m: \u001b[33mWARNING\u001b[0m Consider setting the WANDB_API_KEY environment variable, or running `wandb login` from the command line.\n",
            "\u001b[34m\u001b[1mwandb\u001b[0m: Appending key for api.wandb.ai to your netrc file: /root/.netrc\n"
          ]
        },
        {
          "output_type": "execute_result",
          "data": {
            "text/plain": [
              "True"
            ]
          },
          "metadata": {},
          "execution_count": 3
        }
      ]
    },
    {
      "cell_type": "markdown",
      "source": [
        "## data"
      ],
      "metadata": {
        "id": "zqvcxxyJRiwJ"
      }
    },
    {
      "cell_type": "markdown",
      "source": [
        "### Load in and data"
      ],
      "metadata": {
        "id": "rBQlOhhUMFg5"
      }
    },
    {
      "cell_type": "markdown",
      "source": [
        "Data from here: [PDSI data](https://data.world/us-hhs-gov/c74010cf-8b86-4be4-bd25-5366d8004d82),\n",
        "[SPI data](https://data.world/us-hhs-gov/ea3a3271-8895-410c-8cc7-2b214496969b)"
      ],
      "metadata": {
        "id": "LHHwyH1FYuXb"
      }
    },
    {
      "cell_type": "code",
      "source": [
        "palmer = pd.read_csv(\"/content/palmer.csv\")\n",
        "spi = pd.read_csv(\"/content/SPI.csv\")"
      ],
      "metadata": {
        "id": "vp-IsizoMN5m"
      },
      "execution_count": null,
      "outputs": []
    },
    {
      "cell_type": "markdown",
      "source": [
        "### data cleaning"
      ],
      "metadata": {
        "id": "7_TrNwPNMTfa"
      }
    },
    {
      "cell_type": "code",
      "source": [
        "palmer[\"date\"] = pd.to_datetime(palmer.year.astype(str) + '/' + palmer.month.astype(str) + '/01')\n",
        "palmer = palmer.sort_values(by='date')\n",
        "#get rid of counties that are not in the SPI dataset\n",
        "palmer = palmer[palmer[\"countyfips\"] != 51620]\n",
        "palmer = palmer[palmer[\"countyfips\"] != 12009]\n",
        "palmer = palmer[palmer[\"countyfips\"] != 51595]\n",
        "palmer = palmer[palmer[\"countyfips\"] != 51610]\n",
        "palmer = palmer[palmer[\"countyfips\"] != 51515]\n",
        "\n",
        "\n",
        "spi[\"date\"] = pd.to_datetime(spi.year.astype(str) + '/' + spi.month.astype(str) + '/01')\n",
        "spi = spi.loc[spi['spi'] != -99.99] #they put empty values as -99.99\n",
        "spi = spi.sort_values(by='date')\n",
        "\n",
        "print(\"all counties: \", palmer[\"countyfips\"].unique())"
      ],
      "metadata": {
        "colab": {
          "base_uri": "https://localhost:8080/"
        },
        "id": "Bcpou8IxPtFh",
        "outputId": "1a740198-8a5e-4a5d-b787-5f678ba92eaf"
      },
      "execution_count": null,
      "outputs": [
        {
          "output_type": "stream",
          "name": "stdout",
          "text": [
            "all counties:  [ 1001 42057 42059 ...  1025  1005  1003]\n"
          ]
        }
      ]
    },
    {
      "cell_type": "markdown",
      "source": [
        "### data visualization"
      ],
      "metadata": {
        "id": "mj-SMBZOPz4D"
      }
    },
    {
      "cell_type": "code",
      "source": [
        "'''\n",
        "# data visualization\n",
        "tempSPI = spi[spi[\"countyfips\"] == 1001]\n",
        "plt.plot(tempSPI['date'], tempSPI['spi'])\n",
        "\n",
        "tempPalmer = palmer[palmer[\"countyfips\"] == 1001]\n",
        "plt.plot(tempPalmer['date'], tempPalmer['pdsi'])\n",
        "\n",
        "plt.show()\n",
        "'''"
      ],
      "metadata": {
        "colab": {
          "base_uri": "https://localhost:8080/"
        },
        "id": "f6bHB71KPzOp",
        "outputId": "55491a3a-b5cb-4b1c-be97-7a6623c69a6f"
      },
      "execution_count": null,
      "outputs": [
        {
          "output_type": "execute_result",
          "data": {
            "text/plain": [
              "'\\n# data visualization\\ntempSPI = spi[spi[\"countyfips\"] == 1001]\\nplt.plot(tempSPI[\\'date\\'], tempSPI[\\'spi\\'])\\n\\ntempPalmer = palmer[palmer[\"countyfips\"] == 1001]\\nplt.plot(tempPalmer[\\'date\\'], tempPalmer[\\'pdsi\\'])\\n\\nplt.show()\\n'"
            ],
            "application/vnd.google.colaboratory.intrinsic+json": {
              "type": "string"
            }
          },
          "metadata": {},
          "execution_count": 6
        }
      ]
    },
    {
      "cell_type": "markdown",
      "source": [
        "### combining data tables"
      ],
      "metadata": {
        "id": "QO1hX4wquKrH"
      }
    },
    {
      "cell_type": "code",
      "source": [
        "palmerCounty = palmer[palmer.countyfips == 42057]\n",
        "palmerCounty = palmerCounty[[\"date\", \"pdsi\"]]\n",
        "spiCounty = spi[spi.countyfips == 42057]\n",
        "spiCounty = spiCounty[[\"date\", \"spi\"]]\n",
        "new_df = palmerCounty.merge(spiCounty, on=['date'])\n",
        "# #normalize\n",
        "# temp = new_df[[\"pdsi\", \"spi\"]]\n",
        "# new_df[[\"pdsi\", \"spi\"]]=(temp-temp.mean())/temp.std()"
      ],
      "metadata": {
        "id": "ZBhm6I_IuJKR"
      },
      "execution_count": null,
      "outputs": []
    },
    {
      "cell_type": "markdown",
      "source": [
        "### hold out data for val"
      ],
      "metadata": {
        "id": "7fnjpDDaP7sl"
      }
    },
    {
      "cell_type": "code",
      "execution_count": null,
      "metadata": {
        "id": "aqnQ3knD4N2c",
        "colab": {
          "base_uri": "https://localhost:8080/"
        },
        "outputId": "99fab63a-4cef-4aa8-a9e8-03a964428e8b"
      },
      "outputs": [
        {
          "output_type": "stream",
          "name": "stdout",
          "text": [
            "    spi\n",
            "0  0.89\n",
            "1 -1.18\n",
            "2 -0.92\n",
            "3 -0.36\n",
            "4 -0.58\n"
          ]
        }
      ],
      "source": [
        "# Hold out 30 percent of data to do validation\n",
        "train = new_df[new_df.date < np.min(new_df.date)+((np.max(new_df.date)-np.min(new_df.date))*0.7)]\n",
        "\n",
        "dataset_train = train[[\"pdsi\"]] #spi\n",
        "# print(dataset_train.shape)\n",
        "print(dataset_train.head())\n",
        "dataset_train = np.reshape(np.array(dataset_train), (-1,1))\n",
        "val = new_df[new_df.date > np.min(new_df.date)+((np.max(new_df.date)-np.min(new_df.date))*0.7)]\n",
        "dataset_test = val.pdsi #spi\n",
        "dataset_test = np.reshape(np.array(dataset_test), (-1,1))"
      ]
    },
    {
      "cell_type": "markdown",
      "source": [
        "## model"
      ],
      "metadata": {
        "id": "ZFgrpHFWQS5M"
      }
    },
    {
      "cell_type": "markdown",
      "source": [
        "credit for code inspiration: https://www.kaggle.com/code/abhishekmamidi/time-series-analysis-artificial-neural-networks"
      ],
      "metadata": {
        "id": "eV3u2BnORxfX"
      }
    },
    {
      "cell_type": "markdown",
      "source": [
        "### scaling data"
      ],
      "metadata": {
        "id": "H4cURpVRR1N_"
      }
    },
    {
      "cell_type": "code",
      "source": [
        "scaler = MinMaxScaler(feature_range=(0,1))\n",
        "# scaling dataset\n",
        "scaled_train = scaler.fit_transform(dataset_train)\n",
        "# scaled_train = dataset_train\n",
        "# Normalizing values between 0 and 1\n",
        "scaled_test = scaler.fit_transform(dataset_test)\n",
        "# scaled_test = dataset_test"
      ],
      "metadata": {
        "id": "uy8kn-0vRv89"
      },
      "execution_count": null,
      "outputs": []
    },
    {
      "cell_type": "markdown",
      "source": [
        "### configs"
      ],
      "metadata": {
        "id": "WRlQ_N5gmewQ"
      }
    },
    {
      "cell_type": "code",
      "source": [
        "config = {\n",
        "    \"sequence_length\": 100, # Number of time steps to look back for training\n",
        "    \"sequence_length_test\": 100,  # Number of time steps to look back for testing\n",
        "    \"input_size\": 1,\n",
        "    \"num_layers\": 4,\n",
        "    \"hidden_size\": 28,\n",
        "    \"output_size\": 1,\n",
        "    \"batch_size\": 16,\n",
        "    \"num_epochs\": 20,\n",
        "    \"dropout\": 0.5\n",
        "}"
      ],
      "metadata": {
        "id": "3hybzgv4mehq"
      },
      "execution_count": null,
      "outputs": []
    },
    {
      "cell_type": "markdown",
      "source": [
        "### data"
      ],
      "metadata": {
        "id": "LbE4JASimUkI"
      }
    },
    {
      "cell_type": "code",
      "source": [
        "X_train, y_train = [], []\n",
        "for i in range(len(scaled_train) - config[\"sequence_length\"]):\n",
        "    X_train.append(scaled_train[i:i+config[\"sequence_length\"]])\n",
        "    y_train.append(scaled_train[i+1:i+config[\"sequence_length\"]+1])\n",
        "X_train, y_train = np.array(X_train), np.array(y_train)\n",
        "\n",
        "# Convert data to PyTorch tensors\n",
        "X_train = torch.tensor(X_train, dtype=torch.float32)\n",
        "y_train = torch.tensor(y_train, dtype=torch.float32)\n",
        "X_train.shape,y_train.shape\n",
        "\n",
        "\n",
        "# Create sequences and labels for testing data\n",
        "X_test, y_test = [], []\n",
        "for i in range(len(scaled_test) - config[\"sequence_length_test\"]):\n",
        "    X_test.append(scaled_test[i:i+config[\"sequence_length_test\"]])\n",
        "    y_test.append(scaled_test[i+1:i+config[\"sequence_length_test\"]+1])\n",
        "X_test, y_test = np.array(X_test), np.array(y_test)\n",
        "\n",
        "# Convert data to PyTorch tensors\n",
        "X_test = torch.tensor(X_test, dtype=torch.float32)\n",
        "y_test = torch.tensor(y_test, dtype=torch.float32)\n",
        "X_test.shape, y_test.shape"
      ],
      "metadata": {
        "colab": {
          "base_uri": "https://localhost:8080/"
        },
        "id": "9IRNlWRbmUK3",
        "outputId": "aabed814-c596-4ecb-f0c0-0e9031fb7c43"
      },
      "execution_count": null,
      "outputs": [
        {
          "output_type": "execute_result",
          "data": {
            "text/plain": [
              "(torch.Size([339, 100, 1]), torch.Size([339, 100, 1]))"
            ]
          },
          "metadata": {},
          "execution_count": 47
        }
      ]
    },
    {
      "cell_type": "code",
      "source": [
        "# Create DataLoader for batch training\n",
        "train_dataset = torch.utils.data.TensorDataset(X_train, y_train)\n",
        "train_loader = torch.utils.data.DataLoader(train_dataset, batch_size=config[\"batch_size\"], shuffle=True)\n",
        "\n",
        "# Create DataLoader for batch test\n",
        "test_dataset = torch.utils.data.TensorDataset(X_test, y_test)\n",
        "test_loader = torch.utils.data.DataLoader(test_dataset, batch_size=config[\"batch_size\"], shuffle=False)"
      ],
      "metadata": {
        "id": "N8SoSjhwp6Ea"
      },
      "execution_count": null,
      "outputs": []
    },
    {
      "cell_type": "markdown",
      "source": [
        "### model"
      ],
      "metadata": {
        "id": "CKYezR_vn7e5"
      }
    },
    {
      "cell_type": "code",
      "source": [
        "device = torch.device('cuda' if torch.cuda.is_available() else 'cpu')\n",
        "\n",
        "class LSTMModel(nn.Module):\n",
        "      # input_size : number of features in input at each time step\n",
        "      # hidden_size : Number of LSTM units\n",
        "      # num_layers : number of LSTM layers\n",
        "    def __init__(self, input_size, hidden_size, num_layers):\n",
        "        super(LSTMModel, self).__init__() #initializes the parent class nn.Module\n",
        "        self.lstm = nn.LSTM(input_size, hidden_size, num_layers, batch_first=True, dropout=config[\"dropout\"])\n",
        "        self.linear = nn.Linear(hidden_size, 1)\n",
        "\n",
        "    def forward(self, x): # defines forward pass of the neural network\n",
        "        out, _ = self.lstm(x)\n",
        "        out = self.linear(out)\n",
        "        return out"
      ],
      "metadata": {
        "id": "9tlM6_3HpOuM"
      },
      "execution_count": null,
      "outputs": []
    },
    {
      "cell_type": "markdown",
      "source": [
        "### defining things"
      ],
      "metadata": {
        "id": "kkpxps-TpR5_"
      }
    },
    {
      "cell_type": "code",
      "source": [
        "# Define the model, loss function, and optimizer\n",
        "model = LSTMModel(config[\"input_size\"], config[\"hidden_size\"], config[\"num_layers\"]).to(device)\n",
        "\n",
        "loss_fn = torch.nn.MSELoss(reduction='mean')\n",
        "\n",
        "optimizer = torch.optim.Adam(model.parameters(), lr=1e-2)\n",
        "\n",
        "scheduler = torch.optim.lr_scheduler.ReduceLROnPlateau(optimizer, factor=0.5, patience=5, threshold=0.001)"
      ],
      "metadata": {
        "id": "6FzNRUSvpRmj"
      },
      "execution_count": null,
      "outputs": []
    },
    {
      "cell_type": "markdown",
      "source": [
        "### training"
      ],
      "metadata": {
        "id": "TkIQvQ3YlaSe"
      }
    },
    {
      "cell_type": "code",
      "source": [
        "if use_wandb:\n",
        "  run = wandb.init(\n",
        "    name = \"42057 county change\", ## Wandb creates random run names if you skip this field\n",
        "    reinit = True, ### Allows reinitalizing runs when you re-run this cell\n",
        "    # id = \"n37w794d\", ### Insert specific run id here if you want to resume a previous run\n",
        "    # resume = \"must\", ### You need this to resume previous runs, but comment out reinit = True when using this\n",
        "    project = \"drought_prediction-ablations\", ### Project should be created in your wandb account\n",
        "    config = config ### Wandb Config for your run\n",
        "  )"
      ],
      "metadata": {
        "colab": {
          "base_uri": "https://localhost:8080/",
          "height": 370,
          "referenced_widgets": [
            "61eee46ee15a4e4196990ac0ea76460f",
            "eb9a0b269b704d1380b9d26efc596285",
            "5beebf9849cb4da5895500af5f44313e",
            "fca28a43ab3e490d8af712432565b61f",
            "a53af186aaad489ca9073aa0e35c3308",
            "1e9566ada01943a1a30a48f922ca8e99",
            "e21b8552a6494aad9d79c43bc1641afc",
            "2cbb94afcde64205b4b42741c32bdaca"
          ]
        },
        "id": "rI-rOJK3nVj4",
        "outputId": "1d10f991-040e-4a38-e84a-99c48befe8e9"
      },
      "execution_count": null,
      "outputs": [
        {
          "output_type": "display_data",
          "data": {
            "text/plain": [
              "<IPython.core.display.HTML object>"
            ],
            "text/html": [
              "Finishing last run (ID:gx7r2bct) before initializing another..."
            ]
          },
          "metadata": {}
        },
        {
          "output_type": "display_data",
          "data": {
            "text/plain": [
              "VBox(children=(Label(value='0.001 MB of 0.001 MB uploaded\\r'), FloatProgress(value=1.0, max=1.0)))"
            ],
            "application/vnd.jupyter.widget-view+json": {
              "version_major": 2,
              "version_minor": 0,
              "model_id": "61eee46ee15a4e4196990ac0ea76460f"
            }
          },
          "metadata": {}
        },
        {
          "output_type": "display_data",
          "data": {
            "text/plain": [
              "<IPython.core.display.HTML object>"
            ],
            "text/html": [
              "<style>\n",
              "    table.wandb td:nth-child(1) { padding: 0 10px; text-align: left ; width: auto;} td:nth-child(2) {text-align: left ; width: 100%}\n",
              "    .wandb-row { display: flex; flex-direction: row; flex-wrap: wrap; justify-content: flex-start; width: 100% }\n",
              "    .wandb-col { display: flex; flex-direction: column; flex-basis: 100%; flex: 1; padding: 10px; }\n",
              "    </style>\n",
              "<div class=\"wandb-row\"><div class=\"wandb-col\"><h3>Run history:</h3><br/><table class=\"wandb\"><tr><td>lr</td><td>██████████▃▃▃▃▃▃▁▁▁▁</td></tr><tr><td>train_loss</td><td>█▅▂▂▁▁▁▁▁▁▁▁▁▁▁▁▁▁▁▁</td></tr><tr><td>valid_loss</td><td>█▂▁▁▁▁▂▁▂▂▁▂▁▂▂▂▂▂▂▂</td></tr></table><br/></div><div class=\"wandb-col\"><h3>Run summary:</h3><br/><table class=\"wandb\"><tr><td>lr</td><td>0.0025</td></tr><tr><td>train_loss</td><td>0.35603</td></tr><tr><td>valid_loss</td><td>0.29708</td></tr></table><br/></div></div>"
            ]
          },
          "metadata": {}
        },
        {
          "output_type": "display_data",
          "data": {
            "text/plain": [
              "<IPython.core.display.HTML object>"
            ],
            "text/html": [
              " View run <strong style=\"color:#cdcd00\">42057 county change</strong> at: <a href='https://wandb.ai/sd-team/drought_prediction-ablations/runs/gx7r2bct' target=\"_blank\">https://wandb.ai/sd-team/drought_prediction-ablations/runs/gx7r2bct</a><br/> View project at: <a href='https://wandb.ai/sd-team/drought_prediction-ablations' target=\"_blank\">https://wandb.ai/sd-team/drought_prediction-ablations</a><br/>Synced 5 W&B file(s), 0 media file(s), 0 artifact file(s) and 2 other file(s)"
            ]
          },
          "metadata": {}
        },
        {
          "output_type": "display_data",
          "data": {
            "text/plain": [
              "<IPython.core.display.HTML object>"
            ],
            "text/html": [
              "Find logs at: <code>./wandb/run-20240417_235724-gx7r2bct/logs</code>"
            ]
          },
          "metadata": {}
        },
        {
          "output_type": "display_data",
          "data": {
            "text/plain": [
              "<IPython.core.display.HTML object>"
            ],
            "text/html": [
              "Successfully finished last run (ID:gx7r2bct). Initializing new run:<br/>"
            ]
          },
          "metadata": {}
        },
        {
          "output_type": "display_data",
          "data": {
            "text/plain": [
              "<IPython.core.display.HTML object>"
            ],
            "text/html": [
              "Tracking run with wandb version 0.16.6"
            ]
          },
          "metadata": {}
        },
        {
          "output_type": "display_data",
          "data": {
            "text/plain": [
              "<IPython.core.display.HTML object>"
            ],
            "text/html": [
              "Run data is saved locally in <code>/content/wandb/run-20240418_000609-s656tq44</code>"
            ]
          },
          "metadata": {}
        },
        {
          "output_type": "display_data",
          "data": {
            "text/plain": [
              "<IPython.core.display.HTML object>"
            ],
            "text/html": [
              "Syncing run <strong><a href='https://wandb.ai/sd-team/drought_prediction-ablations/runs/s656tq44' target=\"_blank\">42057 county change</a></strong> to <a href='https://wandb.ai/sd-team/drought_prediction-ablations' target=\"_blank\">Weights & Biases</a> (<a href='https://wandb.me/run' target=\"_blank\">docs</a>)<br/>"
            ]
          },
          "metadata": {}
        },
        {
          "output_type": "display_data",
          "data": {
            "text/plain": [
              "<IPython.core.display.HTML object>"
            ],
            "text/html": [
              " View project at <a href='https://wandb.ai/sd-team/drought_prediction-ablations' target=\"_blank\">https://wandb.ai/sd-team/drought_prediction-ablations</a>"
            ]
          },
          "metadata": {}
        },
        {
          "output_type": "display_data",
          "data": {
            "text/plain": [
              "<IPython.core.display.HTML object>"
            ],
            "text/html": [
              " View run at <a href='https://wandb.ai/sd-team/drought_prediction-ablations/runs/s656tq44' target=\"_blank\">https://wandb.ai/sd-team/drought_prediction-ablations/runs/s656tq44</a>"
            ]
          },
          "metadata": {}
        }
      ]
    },
    {
      "cell_type": "code",
      "source": [
        "if use_wandb:\n",
        "  ### Save your model architecture as a string with str(model)\n",
        "  model_arch  = str(model)\n",
        "\n",
        "  ### Save it in a txt file\n",
        "  arch_file   = open(\"model_arch.txt\", \"w\")\n",
        "  file_write  = arch_file.write(model_arch)\n",
        "  arch_file.close()\n",
        "\n",
        "  ### log it in your wandb run with wandb.save()\n",
        "  wandb.save('model_arch.txt')\n",
        "\n",
        "  ### Save it in a txt file\n",
        "  config_str = str(config)\n",
        "  config_file   = open(\"configs.txt\", \"w\")\n",
        "  file_write  = config_file.write(config_str)\n",
        "  config_file.close()\n",
        "\n",
        "  ### log it in your wandb run with wandb.save()\n",
        "  wandb.save('configs.txt')"
      ],
      "metadata": {
        "colab": {
          "base_uri": "https://localhost:8080/"
        },
        "id": "nsdXlwt4nVvD",
        "outputId": "76064c11-cc2c-4eb5-9471-0b928bdade37"
      },
      "execution_count": null,
      "outputs": [
        {
          "output_type": "execute_result",
          "data": {
            "text/plain": [
              "['/content/wandb/run-20240418_000609-s656tq44/files/configs.txt']"
            ]
          },
          "metadata": {},
          "execution_count": 52
        }
      ]
    },
    {
      "cell_type": "code",
      "source": [
        "# Training loop\n",
        "\n",
        "for epoch in range(config[\"num_epochs\"]):\n",
        "  total_loss = 0.0\n",
        "  # Training\n",
        "  model.train()\n",
        "  curr_lr = float(optimizer.param_groups[0]['lr'])\n",
        "  batch_bar = tqdm(total=len(train_loader), dynamic_ncols=True, leave=False, position=0, desc='Train')\n",
        "  for batch_X, batch_y in train_loader:\n",
        "    batch_X, batch_y = batch_X.to(device), batch_y.to(device)\n",
        "    predictions = model(batch_X)\n",
        "    loss = loss_fn(predictions, batch_y)\n",
        "\n",
        "    optimizer.zero_grad()\n",
        "    loss.backward()\n",
        "    optimizer.step()\n",
        "\n",
        "\n",
        "    total_loss += loss.item()\n",
        "    batch_bar.set_postfix(\n",
        "            loss=\"{:.04f}\".format(float(total_loss / (i + 1))),\n",
        "            lr=\"{:.06f}\".format(float(optimizer.param_groups[0]['lr'])))\n",
        "\n",
        "\n",
        "    batch_bar.update() # Update tqdm bar\n",
        "\n",
        "  # Calculate average training loss and accuracy\n",
        "  average_loss = total_loss / len(train_loader)\n",
        "  batch_bar.close() # You need this to close the tqdm bar\n",
        "\n",
        "  # Validation on test data\n",
        "  model.eval()\n",
        "  with torch.no_grad():\n",
        "    total_val_loss = 0.0\n",
        "\n",
        "    for batch_X_test, batch_y_test in test_loader:\n",
        "      batch_X_test, batch_y_test = batch_X_test.to(device), batch_y_test.to(device)\n",
        "      predictions_test = model(batch_X_test)\n",
        "      val_loss = loss_fn(predictions_test, batch_y_test)\n",
        "\n",
        "      total_val_loss += val_loss.item()\n",
        "\n",
        "    # Calculate average test loss and accuracy\n",
        "    average_val_loss = total_val_loss / len(test_loader)\n",
        "  if use_wandb:\n",
        "    wandb.log({\n",
        "          'train_loss': total_loss,\n",
        "          'valid_loss': total_val_loss,\n",
        "          'lr'        : curr_lr\n",
        "      })\n",
        "\n",
        "  scheduler.step(total_val_loss)\n",
        "  if (epoch+1):\n",
        "    print(f'Epoch [{epoch+1}/{config[\"num_epochs\"]}] - Training Loss: {average_loss:.4f}, Val Loss: {average_val_loss:.4f}')\n"
      ],
      "metadata": {
        "colab": {
          "base_uri": "https://localhost:8080/"
        },
        "id": "fvFfTotFld1Q",
        "outputId": "21c98de0-5d2e-4807-bdb6-ea4ccb3815cf"
      },
      "execution_count": null,
      "outputs": [
        {
          "output_type": "stream",
          "name": "stderr",
          "text": []
        },
        {
          "output_type": "stream",
          "name": "stdout",
          "text": [
            "Epoch [1/20] - Training Loss: 0.0300, Val Loss: 0.0318\n"
          ]
        },
        {
          "output_type": "stream",
          "name": "stderr",
          "text": []
        },
        {
          "output_type": "stream",
          "name": "stdout",
          "text": [
            "Epoch [2/20] - Training Loss: 0.0258, Val Loss: 0.0317\n"
          ]
        },
        {
          "output_type": "stream",
          "name": "stderr",
          "text": []
        },
        {
          "output_type": "stream",
          "name": "stdout",
          "text": [
            "Epoch [3/20] - Training Loss: 0.0258, Val Loss: 0.0316\n"
          ]
        },
        {
          "output_type": "stream",
          "name": "stderr",
          "text": []
        },
        {
          "output_type": "stream",
          "name": "stdout",
          "text": [
            "Epoch [4/20] - Training Loss: 0.0257, Val Loss: 0.0315\n"
          ]
        },
        {
          "output_type": "stream",
          "name": "stderr",
          "text": []
        },
        {
          "output_type": "stream",
          "name": "stdout",
          "text": [
            "Epoch [5/20] - Training Loss: 0.0257, Val Loss: 0.0317\n"
          ]
        },
        {
          "output_type": "stream",
          "name": "stderr",
          "text": []
        },
        {
          "output_type": "stream",
          "name": "stdout",
          "text": [
            "Epoch [6/20] - Training Loss: 0.0256, Val Loss: 0.0315\n"
          ]
        },
        {
          "output_type": "stream",
          "name": "stderr",
          "text": []
        },
        {
          "output_type": "stream",
          "name": "stdout",
          "text": [
            "Epoch [7/20] - Training Loss: 0.0256, Val Loss: 0.0317\n"
          ]
        },
        {
          "output_type": "stream",
          "name": "stderr",
          "text": []
        },
        {
          "output_type": "stream",
          "name": "stdout",
          "text": [
            "Epoch [8/20] - Training Loss: 0.0257, Val Loss: 0.0316\n"
          ]
        },
        {
          "output_type": "stream",
          "name": "stderr",
          "text": []
        },
        {
          "output_type": "stream",
          "name": "stdout",
          "text": [
            "Epoch [9/20] - Training Loss: 0.0256, Val Loss: 0.0316\n"
          ]
        },
        {
          "output_type": "stream",
          "name": "stderr",
          "text": []
        },
        {
          "output_type": "stream",
          "name": "stdout",
          "text": [
            "Epoch [10/20] - Training Loss: 0.0256, Val Loss: 0.0316\n"
          ]
        },
        {
          "output_type": "stream",
          "name": "stderr",
          "text": []
        },
        {
          "output_type": "stream",
          "name": "stdout",
          "text": [
            "Epoch [11/20] - Training Loss: 0.0255, Val Loss: 0.0317\n"
          ]
        },
        {
          "output_type": "stream",
          "name": "stderr",
          "text": []
        },
        {
          "output_type": "stream",
          "name": "stdout",
          "text": [
            "Epoch [12/20] - Training Loss: 0.0254, Val Loss: 0.0319\n"
          ]
        },
        {
          "output_type": "stream",
          "name": "stderr",
          "text": []
        },
        {
          "output_type": "stream",
          "name": "stdout",
          "text": [
            "Epoch [13/20] - Training Loss: 0.0252, Val Loss: 0.0324\n"
          ]
        },
        {
          "output_type": "stream",
          "name": "stderr",
          "text": []
        },
        {
          "output_type": "stream",
          "name": "stdout",
          "text": [
            "Epoch [14/20] - Training Loss: 0.0247, Val Loss: 0.0332\n"
          ]
        },
        {
          "output_type": "stream",
          "name": "stderr",
          "text": []
        },
        {
          "output_type": "stream",
          "name": "stdout",
          "text": [
            "Epoch [15/20] - Training Loss: 0.0244, Val Loss: 0.0340\n"
          ]
        },
        {
          "output_type": "stream",
          "name": "stderr",
          "text": []
        },
        {
          "output_type": "stream",
          "name": "stdout",
          "text": [
            "Epoch [16/20] - Training Loss: 0.0251, Val Loss: 0.0316\n"
          ]
        },
        {
          "output_type": "stream",
          "name": "stderr",
          "text": []
        },
        {
          "output_type": "stream",
          "name": "stdout",
          "text": [
            "Epoch [17/20] - Training Loss: 0.0250, Val Loss: 0.0327\n"
          ]
        },
        {
          "output_type": "stream",
          "name": "stderr",
          "text": []
        },
        {
          "output_type": "stream",
          "name": "stdout",
          "text": [
            "Epoch [18/20] - Training Loss: 0.0244, Val Loss: 0.0336\n"
          ]
        },
        {
          "output_type": "stream",
          "name": "stderr",
          "text": []
        },
        {
          "output_type": "stream",
          "name": "stdout",
          "text": [
            "Epoch [19/20] - Training Loss: 0.0234, Val Loss: 0.0346\n"
          ]
        },
        {
          "output_type": "stream",
          "name": "stderr",
          "text": []
        },
        {
          "output_type": "stream",
          "name": "stdout",
          "text": [
            "Epoch [20/20] - Training Loss: 0.0229, Val Loss: 0.0356\n"
          ]
        }
      ]
    },
    {
      "cell_type": "code",
      "source": [
        "run.finish()"
      ],
      "metadata": {
        "id": "--Kuc99_nUYk"
      },
      "execution_count": null,
      "outputs": []
    },
    {
      "cell_type": "markdown",
      "source": [
        "### testing"
      ],
      "metadata": {
        "id": "VqfzzBs6lbxh"
      }
    },
    {
      "cell_type": "code",
      "source": [
        "# Convert to NumPy and remove singleton dimensions\n",
        "sequence_to_plot = X_test.squeeze().cpu().numpy()\n",
        "# Use the last 30 data points as the starting point\n",
        "historical_data = sequence_to_plot[-1]\n",
        "\n",
        "# Initialize a list to store the forecasted values\n",
        "forecasted_values = []\n",
        "\n",
        "# Use the trained model to forecast future values\n",
        "with torch.no_grad():\n",
        "\tfor _ in range(config[\"sequence_length_test\"]):\n",
        "\t\t# Prepare the historical_data tensor\n",
        "\t\thistorical_data_tensor = torch.as_tensor(historical_data).view(1, -1, 1).float().to(device)\n",
        "\t\t# Use the model to predict the next value\n",
        "\t\tpredicted_value = model(historical_data_tensor).cpu().numpy()[0, 0]\n",
        "\n",
        "\t\t# Append the predicted value to the forecasted_values list\n",
        "\t\tforecasted_values.append(predicted_value[0])\n",
        "\n",
        "\t\t# Update the historical_data sequence by removing the oldest value and adding the predicted value\n",
        "\t\thistorical_data = np.roll(historical_data, shift=-1)\n",
        "\t\thistorical_data[-1] = predicted_value"
      ],
      "metadata": {
        "colab": {
          "base_uri": "https://localhost:8080/"
        },
        "id": "yB3SkhRVldgr",
        "outputId": "75e2658a-7eb7-447d-a267-3a2bced834c6"
      },
      "execution_count": null,
      "outputs": [
        {
          "output_type": "stream",
          "name": "stderr",
          "text": [
            "<ipython-input-55-3ea3cce933e2>:22: DeprecationWarning: Conversion of an array with ndim > 0 to a scalar is deprecated, and will error in future. Ensure you extract a single element from your array before performing this operation. (Deprecated NumPy 1.25.)\n",
            "  historical_data[-1] = predicted_value\n"
          ]
        }
      ]
    },
    {
      "cell_type": "markdown",
      "source": [
        "### Ploting results"
      ],
      "metadata": {
        "id": "2zRgu3UKXUyn"
      }
    },
    {
      "cell_type": "code",
      "source": [
        "#reverse the scaling transformation\n",
        "original_cases = scaler.inverse_transform(np.expand_dims(sequence_to_plot[-1], axis=0)).flatten()\n",
        "# original_cases = np.expand_dims(sequence_to_plot[-1], axis=0).reshape((-1,))\n",
        "plt.plot(val.date[-config[\"sequence_length\"]:], original_cases, label='actual values', color='green')\n",
        "\n",
        "#Forecasted Values\n",
        "#reverse the scaling transformation\n",
        "forecasted_cases = scaler.inverse_transform(np.expand_dims(forecasted_values, axis=0)).flatten()\n",
        "# forecasted_cases = np.expand_dims(forecasted_values, axis=0).reshape((-1,))\n",
        "# plotting the forecasted values\n",
        "plt.plot(val.date[-config[\"sequence_length\"]:], forecasted_cases, label='forecasted values', color='red')\n",
        "\n",
        "plt.xlabel('Time Step')\n",
        "plt.ylabel('Value')\n",
        "plt.legend()\n",
        "plt.title('Time Series Forecasting')\n",
        "plt.grid(True)\n",
        "\n",
        "plt.show()"
      ],
      "metadata": {
        "colab": {
          "base_uri": "https://localhost:8080/",
          "height": 472
        },
        "id": "fLxLcKmJXUhJ",
        "outputId": "2aee1c9e-8a58-4788-8cfd-49b9ad917ca6"
      },
      "execution_count": null,
      "outputs": [
        {
          "output_type": "display_data",
          "data": {
            "text/plain": [
              "<Figure size 640x480 with 1 Axes>"
            ],
            "image/png": "[encoded data removed]"
          },
          "metadata": {}
        }
      ]
    }
  ]
}